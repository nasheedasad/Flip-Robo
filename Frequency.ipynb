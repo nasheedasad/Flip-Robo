{
 "cells": [
  {
   "cell_type": "code",
   "execution_count": 4,
   "metadata": {},
   "outputs": [
    {
     "name": "stdout",
     "output_type": "stream",
     "text": [
      "Frequency of red is : 3\n",
      "Frequency of yellow is : 2\n",
      "Frequency of blue is : 2\n",
      "Frequency of black is : 1\n"
     ]
    }
   ],
   "source": [
    "def freq(str):\n",
    "    str = str.split()         \n",
    "    str2 = []\n",
    "    for i in str:             \n",
    "        if i not in str2:\n",
    "            str2.append(i) \n",
    "              \n",
    "    for i in range(0, len(str2)):\n",
    "        print('Frequency of', str2[i], 'is :', str.count(str2[i]))    \n",
    "  \n",
    "def main():\n",
    "    str ='red yellow red blue blue red black yellow'\n",
    "    freq(str)                    \n",
    "  \n",
    "if __name__==\"__main__\":\n",
    "    main() "
   ]
  }
 ],
 "metadata": {
  "kernelspec": {
   "display_name": "Python 3",
   "language": "python",
   "name": "python3"
  },
  "language_info": {
   "codemirror_mode": {
    "name": "ipython",
    "version": 3
   },
   "file_extension": ".py",
   "mimetype": "text/x-python",
   "name": "python",
   "nbconvert_exporter": "python",
   "pygments_lexer": "ipython3",
   "version": "3.8.5"
  }
 },
 "nbformat": 4,
 "nbformat_minor": 4
}
